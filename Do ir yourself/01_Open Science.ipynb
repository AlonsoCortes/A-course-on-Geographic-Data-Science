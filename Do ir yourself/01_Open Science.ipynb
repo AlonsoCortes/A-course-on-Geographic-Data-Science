{
 "cells": [
  {
   "cell_type": "markdown",
   "metadata": {},
   "source": [
    "# Objetivos\n",
    "Ahora, el reto esta en poner en practica lo aprendido hasta ahora. Para esto, se te sugiere realizar el análisis de los registros Afganos, de forma similar a lo realizado con la información de la composición familiar en Liverpool. <br>\n",
    "Por supuesto que estos son datasets muy diferentes, que reflejan realidades distintas. <br>\n",
    "Sin embargo, la estructura de estos es reativamente similar: ambas capturarn conteos agregados, ya sea por unidades espaciales (vecindarios) o temporales (meses), y a su vez cada conteo se encuentra dividido en categorias\n",
    "    \n",
    "Este dataset tiene la información de el número de bajas en la guerra, los cuales se encuentran divididos en facciones: talibanes, fuerzas afganas, civiles y NATO. Las cuales se encuentran capturadas  de forma mensual, desde el año 2004 hasta el año 2009.\n",
    "    \n",
    "Apartir de tos datos trata de responder las siguientes preguntas:\n",
    "    \n",
    "- Obten el número mínimo de bajas civiles ( ¿en qué mes paso esto?)\n",
    "- ¿Cuántos bajas Nato registro en agosto de 2008?\n",
    "- ¿Cuál es el mes que tiene el mayor número de bajas?\n",
    "- ¿Puedes hacer una grafica de la distribución de las bajas a lo largo del tiempo?"
   ]
  },
  {
   "cell_type": "code",
   "execution_count": 6,
   "metadata": {},
   "outputs": [],
   "source": [
    "# This ensures visualizations are plotted inside the notebook\n",
    "%matplotlib inline\n",
    "\n",
    "import os              # This provides several system utilities\n",
    "import pandas as pd    # This is the workhorse of data munging in Python\n",
    "import seaborn as sns  # This allows us to efficiently and beautifully plot"
   ]
  },
  {
   "cell_type": "code",
   "execution_count": 2,
   "metadata": {},
   "outputs": [
    {
     "data": {
      "text/plain": [
       "'https://docs.google.com/spreadsheets/d/1EAx8_ksSCmoWW_SlhFyq2QrRn0FNNhcg1TtDFJzZRgc/export?format=csv&gid=1'"
      ]
     },
     "execution_count": 2,
     "metadata": {},
     "output_type": "execute_result"
    }
   ],
   "source": [
    "# Gudarmos la url en la que viene la información\\n\",\n",
    "url = (\"https://docs.google.com/spreadsheets/d/\"\\\n",
    "       \"1EAx8_ksSCmoWW_SlhFyq2QrRn0FNNhcg1TtDFJzZRgc/\"\\\n",
    "       \"export?format=csv&gid=1\")\n",
    "url"
   ]
  },
  {
   "cell_type": "code",
   "execution_count": 7,
   "metadata": {},
   "outputs": [
    {
     "data": {
      "text/html": [
       "<div>\n",
       "<style scoped>\n",
       "    .dataframe tbody tr th:only-of-type {\n",
       "        vertical-align: middle;\n",
       "    }\n",
       "\n",
       "    .dataframe tbody tr th {\n",
       "        vertical-align: top;\n",
       "    }\n",
       "\n",
       "    .dataframe thead th {\n",
       "        text-align: right;\n",
       "    }\n",
       "</style>\n",
       "<table border=\"1\" class=\"dataframe\">\n",
       "  <thead>\n",
       "    <tr style=\"text-align: right;\">\n",
       "      <th></th>\n",
       "      <th>Year</th>\n",
       "      <th>Month</th>\n",
       "      <th>Taliban</th>\n",
       "      <th>Civilians</th>\n",
       "      <th>Afghan forces</th>\n",
       "      <th>Nato (detailed in spreadsheet)</th>\n",
       "      <th>Nato - official figures</th>\n",
       "    </tr>\n",
       "  </thead>\n",
       "  <tbody>\n",
       "    <tr>\n",
       "      <th>0</th>\n",
       "      <td>2004.0</td>\n",
       "      <td>January</td>\n",
       "      <td>15.0</td>\n",
       "      <td>51</td>\n",
       "      <td>23.0</td>\n",
       "      <td>NaN</td>\n",
       "      <td>11.0</td>\n",
       "    </tr>\n",
       "    <tr>\n",
       "      <th>1</th>\n",
       "      <td>2004.0</td>\n",
       "      <td>February</td>\n",
       "      <td>NaN</td>\n",
       "      <td>7</td>\n",
       "      <td>4.0</td>\n",
       "      <td>5.0</td>\n",
       "      <td>2.0</td>\n",
       "    </tr>\n",
       "    <tr>\n",
       "      <th>2</th>\n",
       "      <td>2004.0</td>\n",
       "      <td>March</td>\n",
       "      <td>19.0</td>\n",
       "      <td>2</td>\n",
       "      <td>NaN</td>\n",
       "      <td>2.0</td>\n",
       "      <td>3.0</td>\n",
       "    </tr>\n",
       "    <tr>\n",
       "      <th>3</th>\n",
       "      <td>2004.0</td>\n",
       "      <td>April</td>\n",
       "      <td>5.0</td>\n",
       "      <td>3</td>\n",
       "      <td>19.0</td>\n",
       "      <td>NaN</td>\n",
       "      <td>3.0</td>\n",
       "    </tr>\n",
       "    <tr>\n",
       "      <th>4</th>\n",
       "      <td>2004.0</td>\n",
       "      <td>May</td>\n",
       "      <td>18.0</td>\n",
       "      <td>29</td>\n",
       "      <td>56.0</td>\n",
       "      <td>6.0</td>\n",
       "      <td>9.0</td>\n",
       "    </tr>\n",
       "  </tbody>\n",
       "</table>\n",
       "</div>"
      ],
      "text/plain": [
       "     Year     Month  Taliban  Civilians  Afghan forces  \\\n",
       "0  2004.0   January     15.0         51           23.0   \n",
       "1  2004.0  February      NaN          7            4.0   \n",
       "2  2004.0     March     19.0          2            NaN   \n",
       "3  2004.0     April      5.0          3           19.0   \n",
       "4  2004.0       May     18.0         29           56.0   \n",
       "\n",
       "   Nato (detailed in spreadsheet)  Nato - official figures  \n",
       "0                             NaN                     11.0  \n",
       "1                             5.0                      2.0  \n",
       "2                             2.0                      3.0  \n",
       "3                             NaN                      3.0  \n",
       "4                             6.0                      9.0  "
      ]
     },
     "execution_count": 7,
     "metadata": {},
     "output_type": "execute_result"
    }
   ],
   "source": [
    "# Cargamos a un df la información de los damnificados afganos, usamos el comando skiprows para no tomar el cuenta la primera y ultima fila de los datos, ya que estos contienen el titulo de la tabla y otra información no relevante\n",
    "db = pd.read_csv(url, skiprows=[0, -1], thousands=\",\")\n",
    "db.head()"
   ]
  },
  {
   "cell_type": "markdown",
   "metadata": {},
   "source": [
    "Al visualizar la base de datos podemos apreciar la forma en la que estos se encuentran capturados em la que cada fila corresponde a una fecha, la cual se encuentra separada en dos columnas (año y mes) en la que cada una contiene información del número de bajas por facción. <br>\\n\",\n",
    "    \"Además de esto podemos apreciar que dentro de los datos podemos encontrar varios campos en los que se tiene el valor NaN (Not a Number) los cuales los manejaremos como 0 para los fines de este trabajo\""
   ]
  },
  {
   "cell_type": "code",
   "execution_count": 8,
   "metadata": {},
   "outputs": [
    {
     "name": "stdout",
     "output_type": "stream",
     "text": [
      "<class 'pandas.core.frame.DataFrame'>\n",
      "RangeIndex: 73 entries, 0 to 72\n",
      "Data columns (total 7 columns):\n",
      " #   Column                          Non-Null Count  Dtype  \n",
      "---  ------                          --------------  -----  \n",
      " 0   Year                            72 non-null     float64\n",
      " 1   Month                           73 non-null     object \n",
      " 2   Taliban                         72 non-null     float64\n",
      " 3   Civilians                       73 non-null     int64  \n",
      " 4   Afghan forces                   71 non-null     float64\n",
      " 5   Nato (detailed in spreadsheet)  67 non-null     float64\n",
      " 6   Nato - official figures         72 non-null     float64\n",
      "dtypes: float64(5), int64(1), object(1)\n",
      "memory usage: 4.1+ KB\n"
     ]
    }
   ],
   "source": [
    "# Visualicemos el tipo de dato en cada columna\n",
    "db.info()"
   ]
  },
  {
   "cell_type": "code",
   "execution_count": 9,
   "metadata": {},
   "outputs": [
    {
     "data": {
      "text/plain": [
       "Year                              1\n",
       "Month                             0\n",
       "Taliban                           1\n",
       "Civilians                         0\n",
       "Afghan forces                     2\n",
       "Nato (detailed in spreadsheet)    6\n",
       "Nato - official figures           1\n",
       "dtype: int64"
      ]
     },
     "execution_count": 9,
     "metadata": {},
     "output_type": "execute_result"
    }
   ],
   "source": [
    "# Contamos el númeto de nulos/NaN en cada columna\\n\",\n",
    "db.isnull().sum()"
   ]
  },
  {
   "cell_type": "code",
   "execution_count": 10,
   "metadata": {},
   "outputs": [],
   "source": [
    "# Remplezamos NaN con 0\n",
    "db = db.fillna(0)"
   ]
  },
  {
   "cell_type": "code",
   "execution_count": 12,
   "metadata": {},
   "outputs": [
    {
     "data": {
      "text/plain": [
       "Year                              0\n",
       "Month                             0\n",
       "Taliban                           0\n",
       "Civilians                         0\n",
       "Afghan forces                     0\n",
       "Nato (detailed in spreadsheet)    0\n",
       "Nato - official figures           0\n",
       "dtype: int64"
      ]
     },
     "execution_count": 12,
     "metadata": {},
     "output_type": "execute_result"
    }
   ],
   "source": [
    "# Comprobamos la presencia de nulos\n",
    "db.isnull().sum()"
   ]
  },
  {
   "cell_type": "code",
   "execution_count": 13,
   "metadata": {},
   "outputs": [
    {
     "data": {
      "text/html": [
       "<div>\n",
       "<style scoped>\n",
       "    .dataframe tbody tr th:only-of-type {\n",
       "        vertical-align: middle;\n",
       "    }\n",
       "\n",
       "    .dataframe tbody tr th {\n",
       "        vertical-align: top;\n",
       "    }\n",
       "\n",
       "    .dataframe thead th {\n",
       "        text-align: right;\n",
       "    }\n",
       "</style>\n",
       "<table border=\"1\" class=\"dataframe\">\n",
       "  <thead>\n",
       "    <tr style=\"text-align: right;\">\n",
       "      <th></th>\n",
       "      <th>Year</th>\n",
       "      <th>Taliban</th>\n",
       "      <th>Civilians</th>\n",
       "      <th>Afghan forces</th>\n",
       "      <th>Nato (detailed in spreadsheet)</th>\n",
       "      <th>Nato - official figures</th>\n",
       "    </tr>\n",
       "  </thead>\n",
       "  <tbody>\n",
       "    <tr>\n",
       "      <th>count</th>\n",
       "      <td>73.000000</td>\n",
       "      <td>73.000000</td>\n",
       "      <td>73.000000</td>\n",
       "      <td>73.000000</td>\n",
       "      <td>73.000000</td>\n",
       "      <td>73.000000</td>\n",
       "    </tr>\n",
       "    <tr>\n",
       "      <th>mean</th>\n",
       "      <td>1979.013699</td>\n",
       "      <td>424.849315</td>\n",
       "      <td>110.246575</td>\n",
       "      <td>104.657534</td>\n",
       "      <td>31.424658</td>\n",
       "      <td>19.589041</td>\n",
       "    </tr>\n",
       "    <tr>\n",
       "      <th>std</th>\n",
       "      <td>234.849272</td>\n",
       "      <td>1801.776867</td>\n",
       "      <td>466.486357</td>\n",
       "      <td>442.659740</td>\n",
       "      <td>133.499679</td>\n",
       "      <td>17.708155</td>\n",
       "    </tr>\n",
       "    <tr>\n",
       "      <th>min</th>\n",
       "      <td>0.000000</td>\n",
       "      <td>0.000000</td>\n",
       "      <td>2.000000</td>\n",
       "      <td>0.000000</td>\n",
       "      <td>0.000000</td>\n",
       "      <td>0.000000</td>\n",
       "    </tr>\n",
       "    <tr>\n",
       "      <th>25%</th>\n",
       "      <td>2005.000000</td>\n",
       "      <td>48.000000</td>\n",
       "      <td>26.000000</td>\n",
       "      <td>19.000000</td>\n",
       "      <td>3.000000</td>\n",
       "      <td>6.000000</td>\n",
       "    </tr>\n",
       "    <tr>\n",
       "      <th>50%</th>\n",
       "      <td>2006.000000</td>\n",
       "      <td>161.000000</td>\n",
       "      <td>49.000000</td>\n",
       "      <td>49.000000</td>\n",
       "      <td>13.000000</td>\n",
       "      <td>17.000000</td>\n",
       "    </tr>\n",
       "    <tr>\n",
       "      <th>75%</th>\n",
       "      <td>2008.000000</td>\n",
       "      <td>325.000000</td>\n",
       "      <td>76.000000</td>\n",
       "      <td>73.000000</td>\n",
       "      <td>23.000000</td>\n",
       "      <td>27.000000</td>\n",
       "    </tr>\n",
       "    <tr>\n",
       "      <th>max</th>\n",
       "      <td>2009.000000</td>\n",
       "      <td>15507.000000</td>\n",
       "      <td>4024.000000</td>\n",
       "      <td>3820.000000</td>\n",
       "      <td>1147.000000</td>\n",
       "      <td>77.000000</td>\n",
       "    </tr>\n",
       "  </tbody>\n",
       "</table>\n",
       "</div>"
      ],
      "text/plain": [
       "              Year       Taliban    Civilians  Afghan forces  \\\n",
       "count    73.000000     73.000000    73.000000      73.000000   \n",
       "mean   1979.013699    424.849315   110.246575     104.657534   \n",
       "std     234.849272   1801.776867   466.486357     442.659740   \n",
       "min       0.000000      0.000000     2.000000       0.000000   \n",
       "25%    2005.000000     48.000000    26.000000      19.000000   \n",
       "50%    2006.000000    161.000000    49.000000      49.000000   \n",
       "75%    2008.000000    325.000000    76.000000      73.000000   \n",
       "max    2009.000000  15507.000000  4024.000000    3820.000000   \n",
       "\n",
       "       Nato (detailed in spreadsheet)  Nato - official figures  \n",
       "count                       73.000000                73.000000  \n",
       "mean                        31.424658                19.589041  \n",
       "std                        133.499679                17.708155  \n",
       "min                          0.000000                 0.000000  \n",
       "25%                          3.000000                 6.000000  \n",
       "50%                         13.000000                17.000000  \n",
       "75%                         23.000000                27.000000  \n",
       "max                       1147.000000                77.000000  "
      ]
     },
     "execution_count": 13,
     "metadata": {},
     "output_type": "execute_result"
    }
   ],
   "source": [
    "# Estadisticos básicos de cada columna para obtener un poco de información de las variables\\n\",\n",
    "db.describe()"
   ]
  },
  {
   "cell_type": "code",
   "execution_count": 14,
   "metadata": {},
   "outputs": [
    {
     "data": {
      "text/plain": [
       "array([2004., 2005., 2006., 2007., 2008., 2009.,    0.])"
      ]
     },
     "execution_count": 14,
     "metadata": {},
     "output_type": "execute_result"
    }
   ],
   "source": [
    "# Al ver los estádisticos nos percatamos que en la columna de año se tiene un valor minimo de 0, lo cual es un poco raro, procedamos a visualizar los valores únicos de esta columna\\n\",\n",
    "db.Year.unique()"
   ]
  },
  {
   "cell_type": "code",
   "execution_count": 15,
   "metadata": {},
   "outputs": [
    {
     "data": {
      "text/plain": [
       "array(['January', 'February', 'March', 'April', 'May', 'June', 'July',\n",
       "       'August', 'September', 'October', 'November', 'December', '24498'],\n",
       "      dtype=object)"
      ]
     },
     "execution_count": 15,
     "metadata": {},
     "output_type": "execute_result"
    }
   ],
   "source": [
    "# Aprovechando, procedamos a visualizar la columna que contiene el mes, la cual evidentemente tiene un valor erroneo de 24498\\n\",\n",
    "db.Month.unique()"
   ]
  },
  {
   "cell_type": "code",
   "execution_count": 16,
   "metadata": {},
   "outputs": [],
   "source": [
    "# Procedamos a eliminar la fila en la que el año es igual a 0, ya que al no tener este registro, no nos sirve esa información\\n\",\n",
    "db = db[(db[['Year']] != 0).all(axis=1)]"
   ]
  },
  {
   "cell_type": "code",
   "execution_count": 17,
   "metadata": {},
   "outputs": [
    {
     "data": {
      "text/plain": [
       "array([2004., 2005., 2006., 2007., 2008., 2009.])"
      ]
     },
     "execution_count": 17,
     "metadata": {},
     "output_type": "execute_result"
    }
   ],
   "source": [
    "# Comprobamos los valores únicos dentro de la columna de interes\n",
    "db.Year.unique()"
   ]
  },
  {
   "cell_type": "code",
   "execution_count": 18,
   "metadata": {},
   "outputs": [
    {
     "name": "stdout",
     "output_type": "stream",
     "text": [
      "['January' 'February' 'March' 'April' 'May' 'June' 'July' 'August'\n",
      " 'September' 'October' 'November' 'December']\n"
     ]
    }
   ],
   "source": [
    "# Procedemos a eliminar el valor erroneo en la columna de Month\\n\",\n",
    "db = db[db.Month != 24498]\n",
    "# Comprobamos los valores en la columna\\n\",\n",
    "print (db.Month.unique())"
   ]
  },
  {
   "cell_type": "code",
   "execution_count": 20,
   "metadata": {},
   "outputs": [
    {
     "data": {
      "text/html": [
       "<div>\n",
       "<style scoped>\n",
       "    .dataframe tbody tr th:only-of-type {\n",
       "        vertical-align: middle;\n",
       "    }\n",
       "\n",
       "    .dataframe tbody tr th {\n",
       "        vertical-align: top;\n",
       "    }\n",
       "\n",
       "    .dataframe thead th {\n",
       "        text-align: right;\n",
       "    }\n",
       "</style>\n",
       "<table border=\"1\" class=\"dataframe\">\n",
       "  <thead>\n",
       "    <tr style=\"text-align: right;\">\n",
       "      <th></th>\n",
       "      <th>Year</th>\n",
       "      <th>Month</th>\n",
       "      <th>Taliban</th>\n",
       "      <th>Civilians</th>\n",
       "      <th>Afghan forces</th>\n",
       "      <th>Nato (detailed in spreadsheet)</th>\n",
       "      <th>Nato - official figures</th>\n",
       "    </tr>\n",
       "  </thead>\n",
       "  <tbody>\n",
       "    <tr>\n",
       "      <th>0</th>\n",
       "      <td>2004</td>\n",
       "      <td>January</td>\n",
       "      <td>15.0</td>\n",
       "      <td>51</td>\n",
       "      <td>23.0</td>\n",
       "      <td>0.0</td>\n",
       "      <td>11.0</td>\n",
       "    </tr>\n",
       "    <tr>\n",
       "      <th>1</th>\n",
       "      <td>2004</td>\n",
       "      <td>February</td>\n",
       "      <td>0.0</td>\n",
       "      <td>7</td>\n",
       "      <td>4.0</td>\n",
       "      <td>5.0</td>\n",
       "      <td>2.0</td>\n",
       "    </tr>\n",
       "    <tr>\n",
       "      <th>2</th>\n",
       "      <td>2004</td>\n",
       "      <td>March</td>\n",
       "      <td>19.0</td>\n",
       "      <td>2</td>\n",
       "      <td>0.0</td>\n",
       "      <td>2.0</td>\n",
       "      <td>3.0</td>\n",
       "    </tr>\n",
       "    <tr>\n",
       "      <th>3</th>\n",
       "      <td>2004</td>\n",
       "      <td>April</td>\n",
       "      <td>5.0</td>\n",
       "      <td>3</td>\n",
       "      <td>19.0</td>\n",
       "      <td>0.0</td>\n",
       "      <td>3.0</td>\n",
       "    </tr>\n",
       "    <tr>\n",
       "      <th>4</th>\n",
       "      <td>2004</td>\n",
       "      <td>May</td>\n",
       "      <td>18.0</td>\n",
       "      <td>29</td>\n",
       "      <td>56.0</td>\n",
       "      <td>6.0</td>\n",
       "      <td>9.0</td>\n",
       "    </tr>\n",
       "  </tbody>\n",
       "</table>\n",
       "</div>"
      ],
      "text/plain": [
       "   Year     Month  Taliban  Civilians  Afghan forces  \\\n",
       "0  2004   January     15.0         51           23.0   \n",
       "1  2004  February      0.0          7            4.0   \n",
       "2  2004     March     19.0          2            0.0   \n",
       "3  2004     April      5.0          3           19.0   \n",
       "4  2004       May     18.0         29           56.0   \n",
       "\n",
       "   Nato (detailed in spreadsheet)  Nato - official figures  \n",
       "0                             0.0                     11.0  \n",
       "1                             5.0                      2.0  \n",
       "2                             2.0                      3.0  \n",
       "3                             0.0                      3.0  \n",
       "4                             6.0                      9.0  "
      ]
     },
     "execution_count": 20,
     "metadata": {},
     "output_type": "execute_result"
    }
   ],
   "source": [
    "# Casteamos el valor de año a integral, ya que al visualizarlo parece tener decimales\\n\",\n",
    "db[\"Year\"] = db[\"Year\"].astype(int)\n",
    "# Visualizamos\\n\",\n",
    "db.head()"
   ]
  },
  {
   "cell_type": "code",
   "execution_count": 21,
   "metadata": {},
   "outputs": [
    {
     "data": {
      "text/html": [
       "<div>\n",
       "<style scoped>\n",
       "    .dataframe tbody tr th:only-of-type {\n",
       "        vertical-align: middle;\n",
       "    }\n",
       "\n",
       "    .dataframe tbody tr th {\n",
       "        vertical-align: top;\n",
       "    }\n",
       "\n",
       "    .dataframe thead th {\n",
       "        text-align: right;\n",
       "    }\n",
       "</style>\n",
       "<table border=\"1\" class=\"dataframe\">\n",
       "  <thead>\n",
       "    <tr style=\"text-align: right;\">\n",
       "      <th></th>\n",
       "      <th>Year</th>\n",
       "      <th>Month</th>\n",
       "      <th>Taliban</th>\n",
       "      <th>Civilians</th>\n",
       "      <th>Afghan forces</th>\n",
       "      <th>Nato (detailed in spreadsheet)</th>\n",
       "      <th>Nato - official figures</th>\n",
       "      <th>date</th>\n",
       "    </tr>\n",
       "  </thead>\n",
       "  <tbody>\n",
       "    <tr>\n",
       "      <th>0</th>\n",
       "      <td>2004</td>\n",
       "      <td>January</td>\n",
       "      <td>15.0</td>\n",
       "      <td>51</td>\n",
       "      <td>23.0</td>\n",
       "      <td>0.0</td>\n",
       "      <td>11.0</td>\n",
       "      <td>January, 2004</td>\n",
       "    </tr>\n",
       "    <tr>\n",
       "      <th>1</th>\n",
       "      <td>2004</td>\n",
       "      <td>February</td>\n",
       "      <td>0.0</td>\n",
       "      <td>7</td>\n",
       "      <td>4.0</td>\n",
       "      <td>5.0</td>\n",
       "      <td>2.0</td>\n",
       "      <td>February, 2004</td>\n",
       "    </tr>\n",
       "    <tr>\n",
       "      <th>2</th>\n",
       "      <td>2004</td>\n",
       "      <td>March</td>\n",
       "      <td>19.0</td>\n",
       "      <td>2</td>\n",
       "      <td>0.0</td>\n",
       "      <td>2.0</td>\n",
       "      <td>3.0</td>\n",
       "      <td>March, 2004</td>\n",
       "    </tr>\n",
       "    <tr>\n",
       "      <th>3</th>\n",
       "      <td>2004</td>\n",
       "      <td>April</td>\n",
       "      <td>5.0</td>\n",
       "      <td>3</td>\n",
       "      <td>19.0</td>\n",
       "      <td>0.0</td>\n",
       "      <td>3.0</td>\n",
       "      <td>April, 2004</td>\n",
       "    </tr>\n",
       "    <tr>\n",
       "      <th>4</th>\n",
       "      <td>2004</td>\n",
       "      <td>May</td>\n",
       "      <td>18.0</td>\n",
       "      <td>29</td>\n",
       "      <td>56.0</td>\n",
       "      <td>6.0</td>\n",
       "      <td>9.0</td>\n",
       "      <td>May, 2004</td>\n",
       "    </tr>\n",
       "  </tbody>\n",
       "</table>\n",
       "</div>"
      ],
      "text/plain": [
       "   Year     Month  Taliban  Civilians  Afghan forces  \\\n",
       "0  2004   January     15.0         51           23.0   \n",
       "1  2004  February      0.0          7            4.0   \n",
       "2  2004     March     19.0          2            0.0   \n",
       "3  2004     April      5.0          3           19.0   \n",
       "4  2004       May     18.0         29           56.0   \n",
       "\n",
       "   Nato (detailed in spreadsheet)  Nato - official figures            date  \n",
       "0                             0.0                     11.0   January, 2004  \n",
       "1                             5.0                      2.0  February, 2004  \n",
       "2                             2.0                      3.0     March, 2004  \n",
       "3                             0.0                      3.0     April, 2004  \n",
       "4                             6.0                      9.0       May, 2004  "
      ]
     },
     "execution_count": 21,
     "metadata": {},
     "output_type": "execute_result"
    }
   ],
   "source": [
    "# Creamos una columna nueva en la que se unira la información de año y mes\\n\",\n",
    "db[\"date\"] = db[\"Month\"] +\", \"+ db[\"Year\"].astype(str)\n",
    "db.head()"
   ]
  },
  {
   "cell_type": "code",
   "execution_count": 22,
   "metadata": {},
   "outputs": [],
   "source": [
    "# Pasamos la columna date al formato de timestamp, lo que permitira trabajar de forma más eficiente en caso de querererlo\\n\",\n",
    "db[\"date\"] = pd.to_datetime(db['date'], format=\"%B, %Y\")\n",
    "\n",
    "# data[\\\"Time\\\"]= pd.to_datetime(data[\\\"Time\\\"]) "
   ]
  },
  {
   "cell_type": "code",
   "execution_count": 23,
   "metadata": {},
   "outputs": [
    {
     "name": "stdout",
     "output_type": "stream",
     "text": [
      "<class 'pandas.core.frame.DataFrame'>\n",
      "Int64Index: 72 entries, 0 to 71\n",
      "Data columns (total 8 columns):\n",
      " #   Column                          Non-Null Count  Dtype         \n",
      "---  ------                          --------------  -----         \n",
      " 0   Year                            72 non-null     int32         \n",
      " 1   Month                           72 non-null     object        \n",
      " 2   Taliban                         72 non-null     float64       \n",
      " 3   Civilians                       72 non-null     int64         \n",
      " 4   Afghan forces                   72 non-null     float64       \n",
      " 5   Nato (detailed in spreadsheet)  72 non-null     float64       \n",
      " 6   Nato - official figures         72 non-null     float64       \n",
      " 7   date                            72 non-null     datetime64[ns]\n",
      "dtypes: datetime64[ns](1), float64(4), int32(1), int64(1), object(1)\n",
      "memory usage: 4.8+ KB\n"
     ]
    }
   ],
   "source": [
    "# Visualicemos el tipo de dato en cada columna para comprobar las acciones anterioes\\n\",\n",
    "db.info()"
   ]
  },
  {
   "cell_type": "code",
   "execution_count": 24,
   "metadata": {},
   "outputs": [
    {
     "data": {
      "text/html": [
       "<div>\n",
       "<style scoped>\n",
       "    .dataframe tbody tr th:only-of-type {\n",
       "        vertical-align: middle;\n",
       "    }\n",
       "\n",
       "    .dataframe tbody tr th {\n",
       "        vertical-align: top;\n",
       "    }\n",
       "\n",
       "    .dataframe thead th {\n",
       "        text-align: right;\n",
       "    }\n",
       "</style>\n",
       "<table border=\"1\" class=\"dataframe\">\n",
       "  <thead>\n",
       "    <tr style=\"text-align: right;\">\n",
       "      <th></th>\n",
       "      <th>Year</th>\n",
       "      <th>Month</th>\n",
       "      <th>Taliban</th>\n",
       "      <th>Civilians</th>\n",
       "      <th>Afghan forces</th>\n",
       "      <th>Nato (detailed in spreadsheet)</th>\n",
       "      <th>Nato - official figures</th>\n",
       "      <th>date</th>\n",
       "    </tr>\n",
       "  </thead>\n",
       "  <tbody>\n",
       "    <tr>\n",
       "      <th>0</th>\n",
       "      <td>2004</td>\n",
       "      <td>January</td>\n",
       "      <td>15.0</td>\n",
       "      <td>51</td>\n",
       "      <td>23.0</td>\n",
       "      <td>0.0</td>\n",
       "      <td>11.0</td>\n",
       "      <td>2004-01-01</td>\n",
       "    </tr>\n",
       "    <tr>\n",
       "      <th>1</th>\n",
       "      <td>2004</td>\n",
       "      <td>February</td>\n",
       "      <td>0.0</td>\n",
       "      <td>7</td>\n",
       "      <td>4.0</td>\n",
       "      <td>5.0</td>\n",
       "      <td>2.0</td>\n",
       "      <td>2004-02-01</td>\n",
       "    </tr>\n",
       "    <tr>\n",
       "      <th>2</th>\n",
       "      <td>2004</td>\n",
       "      <td>March</td>\n",
       "      <td>19.0</td>\n",
       "      <td>2</td>\n",
       "      <td>0.0</td>\n",
       "      <td>2.0</td>\n",
       "      <td>3.0</td>\n",
       "      <td>2004-03-01</td>\n",
       "    </tr>\n",
       "    <tr>\n",
       "      <th>3</th>\n",
       "      <td>2004</td>\n",
       "      <td>April</td>\n",
       "      <td>5.0</td>\n",
       "      <td>3</td>\n",
       "      <td>19.0</td>\n",
       "      <td>0.0</td>\n",
       "      <td>3.0</td>\n",
       "      <td>2004-04-01</td>\n",
       "    </tr>\n",
       "    <tr>\n",
       "      <th>4</th>\n",
       "      <td>2004</td>\n",
       "      <td>May</td>\n",
       "      <td>18.0</td>\n",
       "      <td>29</td>\n",
       "      <td>56.0</td>\n",
       "      <td>6.0</td>\n",
       "      <td>9.0</td>\n",
       "      <td>2004-05-01</td>\n",
       "    </tr>\n",
       "  </tbody>\n",
       "</table>\n",
       "</div>"
      ],
      "text/plain": [
       "   Year     Month  Taliban  Civilians  Afghan forces  \\\n",
       "0  2004   January     15.0         51           23.0   \n",
       "1  2004  February      0.0          7            4.0   \n",
       "2  2004     March     19.0          2            0.0   \n",
       "3  2004     April      5.0          3           19.0   \n",
       "4  2004       May     18.0         29           56.0   \n",
       "\n",
       "   Nato (detailed in spreadsheet)  Nato - official figures       date  \n",
       "0                             0.0                     11.0 2004-01-01  \n",
       "1                             5.0                      2.0 2004-02-01  \n",
       "2                             2.0                      3.0 2004-03-01  \n",
       "3                             0.0                      3.0 2004-04-01  \n",
       "4                             6.0                      9.0 2004-05-01  "
      ]
     },
     "execution_count": 24,
     "metadata": {},
     "output_type": "execute_result"
    }
   ],
   "source": [
    "# Visualizamos nuestros datos\\n\",\n",
    "db.head()"
   ]
  },
  {
   "cell_type": "code",
   "execution_count": 26,
   "metadata": {},
   "outputs": [
    {
     "data": {
      "text/html": [
       "<div>\n",
       "<style scoped>\n",
       "    .dataframe tbody tr th:only-of-type {\n",
       "        vertical-align: middle;\n",
       "    }\n",
       "\n",
       "    .dataframe tbody tr th {\n",
       "        vertical-align: top;\n",
       "    }\n",
       "\n",
       "    .dataframe thead th {\n",
       "        text-align: right;\n",
       "    }\n",
       "</style>\n",
       "<table border=\"1\" class=\"dataframe\">\n",
       "  <thead>\n",
       "    <tr style=\"text-align: right;\">\n",
       "      <th></th>\n",
       "      <th>Year</th>\n",
       "      <th>Month</th>\n",
       "      <th>Taliban</th>\n",
       "      <th>Civilians</th>\n",
       "      <th>Afghan forces</th>\n",
       "      <th>Nato (detailed in spreadsheet)</th>\n",
       "      <th>Nato - official figures</th>\n",
       "      <th>date</th>\n",
       "      <th>Total</th>\n",
       "    </tr>\n",
       "  </thead>\n",
       "  <tbody>\n",
       "    <tr>\n",
       "      <th>0</th>\n",
       "      <td>2004</td>\n",
       "      <td>January</td>\n",
       "      <td>15.0</td>\n",
       "      <td>51</td>\n",
       "      <td>23.0</td>\n",
       "      <td>0.0</td>\n",
       "      <td>11.0</td>\n",
       "      <td>2004-01-01</td>\n",
       "      <td>100</td>\n",
       "    </tr>\n",
       "    <tr>\n",
       "      <th>1</th>\n",
       "      <td>2004</td>\n",
       "      <td>February</td>\n",
       "      <td>0.0</td>\n",
       "      <td>7</td>\n",
       "      <td>4.0</td>\n",
       "      <td>5.0</td>\n",
       "      <td>2.0</td>\n",
       "      <td>2004-02-01</td>\n",
       "      <td>18</td>\n",
       "    </tr>\n",
       "    <tr>\n",
       "      <th>2</th>\n",
       "      <td>2004</td>\n",
       "      <td>March</td>\n",
       "      <td>19.0</td>\n",
       "      <td>2</td>\n",
       "      <td>0.0</td>\n",
       "      <td>2.0</td>\n",
       "      <td>3.0</td>\n",
       "      <td>2004-03-01</td>\n",
       "      <td>26</td>\n",
       "    </tr>\n",
       "    <tr>\n",
       "      <th>3</th>\n",
       "      <td>2004</td>\n",
       "      <td>April</td>\n",
       "      <td>5.0</td>\n",
       "      <td>3</td>\n",
       "      <td>19.0</td>\n",
       "      <td>0.0</td>\n",
       "      <td>3.0</td>\n",
       "      <td>2004-04-01</td>\n",
       "      <td>30</td>\n",
       "    </tr>\n",
       "    <tr>\n",
       "      <th>4</th>\n",
       "      <td>2004</td>\n",
       "      <td>May</td>\n",
       "      <td>18.0</td>\n",
       "      <td>29</td>\n",
       "      <td>56.0</td>\n",
       "      <td>6.0</td>\n",
       "      <td>9.0</td>\n",
       "      <td>2004-05-01</td>\n",
       "      <td>118</td>\n",
       "    </tr>\n",
       "  </tbody>\n",
       "</table>\n",
       "</div>"
      ],
      "text/plain": [
       "   Year     Month  Taliban  Civilians  Afghan forces  \\\n",
       "0  2004   January     15.0         51           23.0   \n",
       "1  2004  February      0.0          7            4.0   \n",
       "2  2004     March     19.0          2            0.0   \n",
       "3  2004     April      5.0          3           19.0   \n",
       "4  2004       May     18.0         29           56.0   \n",
       "\n",
       "   Nato (detailed in spreadsheet)  Nato - official figures       date  Total  \n",
       "0                             0.0                     11.0 2004-01-01    100  \n",
       "1                             5.0                      2.0 2004-02-01     18  \n",
       "2                             2.0                      3.0 2004-03-01     26  \n",
       "3                             0.0                      3.0 2004-04-01     30  \n",
       "4                             6.0                      9.0 2004-05-01    118  "
      ]
     },
     "execution_count": 26,
     "metadata": {},
     "output_type": "execute_result"
    }
   ],
   "source": [
    "# Empecemos creando una nueva columna en la que se tenga la sumatoria del total de bajas\\n\",\n",
    "db['Total'] = db['Taliban'] + db['Civilians'] + db['Afghan forces'] + db['Nato (detailed in spreadsheet)'] + db['Nato - official figures']\n",
    "\n",
    "db['Total'] = db['Total'].astype(int)\n",
    "db.head()"
   ]
  },
  {
   "cell_type": "markdown",
   "metadata": {},
   "source": [
    "Antes de empezar plenamente, necesitamos order nuestros datos, al igual que se nos recomienda en la sección de Tidy Data, en la que nuestra información debe considerar las siguientes tres cualidades:\n",
    "- Cada variable forma una columna\\n\",\n",
    "- Cada observación corresponde a una fila\\n\",\n",
    "- Cada medida de observación forma una tabla"
   ]
  },
  {
   "cell_type": "code",
   "execution_count": 27,
   "metadata": {},
   "outputs": [
    {
     "data": {
      "text/html": [
       "<div>\n",
       "<style scoped>\n",
       "    .dataframe tbody tr th:only-of-type {\n",
       "        vertical-align: middle;\n",
       "    }\n",
       "\n",
       "    .dataframe tbody tr th {\n",
       "        vertical-align: top;\n",
       "    }\n",
       "\n",
       "    .dataframe thead th {\n",
       "        text-align: right;\n",
       "    }\n",
       "</style>\n",
       "<table border=\"1\" class=\"dataframe\">\n",
       "  <thead>\n",
       "    <tr style=\"text-align: right;\">\n",
       "      <th></th>\n",
       "      <th>Total</th>\n",
       "    </tr>\n",
       "    <tr>\n",
       "      <th>date</th>\n",
       "      <th></th>\n",
       "    </tr>\n",
       "  </thead>\n",
       "  <tbody>\n",
       "    <tr>\n",
       "      <th>2004-01-01</th>\n",
       "      <td>100</td>\n",
       "    </tr>\n",
       "    <tr>\n",
       "      <th>2004-02-01</th>\n",
       "      <td>18</td>\n",
       "    </tr>\n",
       "    <tr>\n",
       "      <th>2004-03-01</th>\n",
       "      <td>26</td>\n",
       "    </tr>\n",
       "    <tr>\n",
       "      <th>2004-04-01</th>\n",
       "      <td>30</td>\n",
       "    </tr>\n",
       "    <tr>\n",
       "      <th>2004-05-01</th>\n",
       "      <td>118</td>\n",
       "    </tr>\n",
       "  </tbody>\n",
       "</table>\n",
       "</div>"
      ],
      "text/plain": [
       "            Total\n",
       "date             \n",
       "2004-01-01    100\n",
       "2004-02-01     18\n",
       "2004-03-01     26\n",
       "2004-04-01     30\n",
       "2004-05-01    118"
      ]
     },
     "execution_count": 27,
     "metadata": {},
     "output_type": "execute_result"
    }
   ],
   "source": [
    "# Empecemos creando una tabla nueva en la que tengamos la información exclusivamente de la fecha y el total de bajas\\n\",\n",
    "total = db[['date','Total']]\n",
    "# Establecemos la columna date como índice\n",
    "total = total.set_index('date')\n",
    "# Visualizamos\n",
    "total.head()"
   ]
  },
  {
   "cell_type": "code",
   "execution_count": 28,
   "metadata": {},
   "outputs": [
    {
     "data": {
      "text/html": [
       "<div>\n",
       "<style scoped>\n",
       "    .dataframe tbody tr th:only-of-type {\n",
       "        vertical-align: middle;\n",
       "    }\n",
       "\n",
       "    .dataframe tbody tr th {\n",
       "        vertical-align: top;\n",
       "    }\n",
       "\n",
       "    .dataframe thead th {\n",
       "        text-align: right;\n",
       "    }\n",
       "</style>\n",
       "<table border=\"1\" class=\"dataframe\">\n",
       "  <thead>\n",
       "    <tr style=\"text-align: right;\">\n",
       "      <th></th>\n",
       "      <th>Taliban</th>\n",
       "      <th>Civilians</th>\n",
       "      <th>Afghan forces</th>\n",
       "      <th>Nato (detailed in spreadsheet)</th>\n",
       "      <th>Nato - official figures</th>\n",
       "    </tr>\n",
       "    <tr>\n",
       "      <th>date</th>\n",
       "      <th></th>\n",
       "      <th></th>\n",
       "      <th></th>\n",
       "      <th></th>\n",
       "      <th></th>\n",
       "    </tr>\n",
       "  </thead>\n",
       "  <tbody>\n",
       "    <tr>\n",
       "      <th>2004-01-01</th>\n",
       "      <td>15.0</td>\n",
       "      <td>51</td>\n",
       "      <td>23.0</td>\n",
       "      <td>0.0</td>\n",
       "      <td>11.0</td>\n",
       "    </tr>\n",
       "    <tr>\n",
       "      <th>2004-02-01</th>\n",
       "      <td>0.0</td>\n",
       "      <td>7</td>\n",
       "      <td>4.0</td>\n",
       "      <td>5.0</td>\n",
       "      <td>2.0</td>\n",
       "    </tr>\n",
       "    <tr>\n",
       "      <th>2004-03-01</th>\n",
       "      <td>19.0</td>\n",
       "      <td>2</td>\n",
       "      <td>0.0</td>\n",
       "      <td>2.0</td>\n",
       "      <td>3.0</td>\n",
       "    </tr>\n",
       "    <tr>\n",
       "      <th>2004-04-01</th>\n",
       "      <td>5.0</td>\n",
       "      <td>3</td>\n",
       "      <td>19.0</td>\n",
       "      <td>0.0</td>\n",
       "      <td>3.0</td>\n",
       "    </tr>\n",
       "    <tr>\n",
       "      <th>2004-05-01</th>\n",
       "      <td>18.0</td>\n",
       "      <td>29</td>\n",
       "      <td>56.0</td>\n",
       "      <td>6.0</td>\n",
       "      <td>9.0</td>\n",
       "    </tr>\n",
       "  </tbody>\n",
       "</table>\n",
       "</div>"
      ],
      "text/plain": [
       "            Taliban  Civilians  Afghan forces  Nato (detailed in spreadsheet)  \\\n",
       "date                                                                            \n",
       "2004-01-01     15.0         51           23.0                             0.0   \n",
       "2004-02-01      0.0          7            4.0                             5.0   \n",
       "2004-03-01     19.0          2            0.0                             2.0   \n",
       "2004-04-01      5.0          3           19.0                             0.0   \n",
       "2004-05-01     18.0         29           56.0                             6.0   \n",
       "\n",
       "            Nato - official figures  \n",
       "date                                 \n",
       "2004-01-01                     11.0  \n",
       "2004-02-01                      2.0  \n",
       "2004-03-01                      3.0  \n",
       "2004-04-01                      3.0  \n",
       "2004-05-01                      9.0  "
      ]
     },
     "execution_count": 28,
     "metadata": {},
     "output_type": "execute_result"
    }
   ],
   "source": [
    "# Ahora, creamos una nueva tabla en la que se tendrá la información desagregada del número de bajas\\n\",\n",
    "desagregada = db[['date','Taliban', 'Civilians', 'Afghan forces', 'Nato (detailed in spreadsheet)','Nato - official figures']]\n",
    "# Establecemos la columna date como índice\n",
    "desagregada = desagregada.set_index('date')\n",
    "# Visualizamos\",\n",
    "desagregada.head()"
   ]
  },
  {
   "cell_type": "code",
   "execution_count": 29,
   "metadata": {},
   "outputs": [
    {
     "data": {
      "text/plain": [
       "date                                      \n",
       "2004-01-01  Taliban                           15.0\n",
       "            Civilians                         51.0\n",
       "            Afghan forces                     23.0\n",
       "            Nato (detailed in spreadsheet)     0.0\n",
       "            Nato - official figures           11.0\n",
       "dtype: float64"
      ]
     },
     "execution_count": 29,
     "metadata": {},
     "output_type": "execute_result"
    }
   ],
   "source": [
    "# ya que se tiene estanueva tabla, apreciamos que esta tabla no cumple con uno de los requerimientos de \\\"datos ordenados\\\", ya que en cen una fila se tienen varias observaciones, correspondientes  a la facción en la que se dio esta baja, procesamos a cambiar esto\\n\",\n",
    "# Usamos el método stack para agrupar las columnas\n",
    "agrupado = desagregada.stack()\n",
    "# Visualizamos\n",
    "agrupado.head()"
   ]
  },
  {
   "cell_type": "code",
   "execution_count": 30,
   "metadata": {},
   "outputs": [
    {
     "data": {
      "text/html": [
       "<div>\n",
       "<style scoped>\n",
       "    .dataframe tbody tr th:only-of-type {\n",
       "        vertical-align: middle;\n",
       "    }\n",
       "\n",
       "    .dataframe tbody tr th {\n",
       "        vertical-align: top;\n",
       "    }\n",
       "\n",
       "    .dataframe thead th {\n",
       "        text-align: right;\n",
       "    }\n",
       "</style>\n",
       "<table border=\"1\" class=\"dataframe\">\n",
       "  <thead>\n",
       "    <tr style=\"text-align: right;\">\n",
       "      <th></th>\n",
       "      <th>date</th>\n",
       "      <th>level_1</th>\n",
       "      <th>0</th>\n",
       "    </tr>\n",
       "  </thead>\n",
       "  <tbody>\n",
       "    <tr>\n",
       "      <th>0</th>\n",
       "      <td>2004-01-01</td>\n",
       "      <td>Taliban</td>\n",
       "      <td>15.0</td>\n",
       "    </tr>\n",
       "    <tr>\n",
       "      <th>1</th>\n",
       "      <td>2004-01-01</td>\n",
       "      <td>Civilians</td>\n",
       "      <td>51.0</td>\n",
       "    </tr>\n",
       "    <tr>\n",
       "      <th>2</th>\n",
       "      <td>2004-01-01</td>\n",
       "      <td>Afghan forces</td>\n",
       "      <td>23.0</td>\n",
       "    </tr>\n",
       "    <tr>\n",
       "      <th>3</th>\n",
       "      <td>2004-01-01</td>\n",
       "      <td>Nato (detailed in spreadsheet)</td>\n",
       "      <td>0.0</td>\n",
       "    </tr>\n",
       "    <tr>\n",
       "      <th>4</th>\n",
       "      <td>2004-01-01</td>\n",
       "      <td>Nato - official figures</td>\n",
       "      <td>11.0</td>\n",
       "    </tr>\n",
       "  </tbody>\n",
       "</table>\n",
       "</div>"
      ],
      "text/plain": [
       "        date                         level_1     0\n",
       "0 2004-01-01                         Taliban  15.0\n",
       "1 2004-01-01                       Civilians  51.0\n",
       "2 2004-01-01                   Afghan forces  23.0\n",
       "3 2004-01-01  Nato (detailed in spreadsheet)   0.0\n",
       "4 2004-01-01         Nato - official figures  11.0"
      ]
     },
     "execution_count": 30,
     "metadata": {},
     "output_type": "execute_result"
    }
   ],
   "source": [
    "# Reiniciamos el índice del dataframe para tener una visualizamos más aproximada  una tabla\\n\",\n",
    "agrupado = agrupado.reset_index()\n",
    "agrupado.head()"
   ]
  },
  {
   "cell_type": "code",
   "execution_count": 31,
   "metadata": {},
   "outputs": [
    {
     "data": {
      "text/html": [
       "<div>\n",
       "<style scoped>\n",
       "    .dataframe tbody tr th:only-of-type {\n",
       "        vertical-align: middle;\n",
       "    }\n",
       "\n",
       "    .dataframe tbody tr th {\n",
       "        vertical-align: top;\n",
       "    }\n",
       "\n",
       "    .dataframe thead th {\n",
       "        text-align: right;\n",
       "    }\n",
       "</style>\n",
       "<table border=\"1\" class=\"dataframe\">\n",
       "  <thead>\n",
       "    <tr style=\"text-align: right;\">\n",
       "      <th></th>\n",
       "      <th>date</th>\n",
       "      <th>Subgroup</th>\n",
       "      <th>Freq</th>\n",
       "    </tr>\n",
       "  </thead>\n",
       "  <tbody>\n",
       "    <tr>\n",
       "      <th>0</th>\n",
       "      <td>2004-01-01</td>\n",
       "      <td>Taliban</td>\n",
       "      <td>15.0</td>\n",
       "    </tr>\n",
       "    <tr>\n",
       "      <th>1</th>\n",
       "      <td>2004-01-01</td>\n",
       "      <td>Civilians</td>\n",
       "      <td>51.0</td>\n",
       "    </tr>\n",
       "    <tr>\n",
       "      <th>2</th>\n",
       "      <td>2004-01-01</td>\n",
       "      <td>Afghan forces</td>\n",
       "      <td>23.0</td>\n",
       "    </tr>\n",
       "    <tr>\n",
       "      <th>3</th>\n",
       "      <td>2004-01-01</td>\n",
       "      <td>Nato (detailed in spreadsheet)</td>\n",
       "      <td>0.0</td>\n",
       "    </tr>\n",
       "    <tr>\n",
       "      <th>4</th>\n",
       "      <td>2004-01-01</td>\n",
       "      <td>Nato - official figures</td>\n",
       "      <td>11.0</td>\n",
       "    </tr>\n",
       "  </tbody>\n",
       "</table>\n",
       "</div>"
      ],
      "text/plain": [
       "        date                        Subgroup  Freq\n",
       "0 2004-01-01                         Taliban  15.0\n",
       "1 2004-01-01                       Civilians  51.0\n",
       "2 2004-01-01                   Afghan forces  23.0\n",
       "3 2004-01-01  Nato (detailed in spreadsheet)   0.0\n",
       "4 2004-01-01         Nato - official figures  11.0"
      ]
     },
     "execution_count": 31,
     "metadata": {},
     "output_type": "execute_result"
    }
   ],
   "source": [
    "# Renombramos los encabezados de las columnas para tener una mejor comprensión de los datos\n",
    "agrupado = agrupado.rename(columns={'level_1': 'Subgroup', 0: 'Freq'})\n",
    "agrupado.head()"
   ]
  },
  {
   "cell_type": "markdown",
   "metadata": {},
   "source": [
    "### Ahora, ya se tiene la stablas listas para trabajar y responder las cuestiones presentadas al principio de este notebook\n",
    "# - Obten el número mínimo de bajas civiles ( ¿en qué mes paso esto?)"
   ]
  },
  {
   "cell_type": "code",
   "execution_count": 32,
   "metadata": {},
   "outputs": [
    {
     "data": {
      "text/plain": [
       "date        2004-01-01 00:00:00\n",
       "Subgroup              Civilians\n",
       "Freq                          2\n",
       "dtype: object"
      ]
     },
     "execution_count": 32,
     "metadata": {},
     "output_type": "execute_result"
    }
   ],
   "source": [
    "# Empecemos a obtener los datos que se nos solicita en esta practica\\n\",\n",
    "# Para obtener el número mínimo de bajas, trabajaremos con la tabla de agrupado, ya que esta tiene la información desagregada del número de bajas\\n\",\n",
    "\n",
    "# De la tabla agrupado seleccionamos el valor mínimo donde el subgrupo sea Civilians\\n\",\n",
    "agrupado.query('Subgroup == \"Civilians\"').min()"
   ]
  },
  {
   "cell_type": "markdown",
   "metadata": {},
   "source": [
    "Con esto obtenemos que el mes en el que se presnetaron menos bajas civiles fue en enero del 2004, esto con dos sucesos registrados por las bases de datos afganas"
   ]
  },
  {
   "cell_type": "markdown",
   "metadata": {},
   "source": [
    "# - ¿Cuántos bajas Nato registro en agosto de 2008?"
   ]
  },
  {
   "cell_type": "code",
   "execution_count": 34,
   "metadata": {},
   "outputs": [
    {
     "data": {
      "text/html": [
       "<div>\n",
       "<style scoped>\n",
       "    .dataframe tbody tr th:only-of-type {\n",
       "        vertical-align: middle;\n",
       "    }\n",
       "\n",
       "    .dataframe tbody tr th {\n",
       "        vertical-align: top;\n",
       "    }\n",
       "\n",
       "    .dataframe thead th {\n",
       "        text-align: right;\n",
       "    }\n",
       "</style>\n",
       "<table border=\"1\" class=\"dataframe\">\n",
       "  <thead>\n",
       "    <tr style=\"text-align: right;\">\n",
       "      <th></th>\n",
       "      <th>date</th>\n",
       "      <th>Subgroup</th>\n",
       "      <th>Freq</th>\n",
       "    </tr>\n",
       "  </thead>\n",
       "  <tbody>\n",
       "    <tr>\n",
       "      <th>278</th>\n",
       "      <td>2008-08-01</td>\n",
       "      <td>Nato (detailed in spreadsheet)</td>\n",
       "      <td>46.0</td>\n",
       "    </tr>\n",
       "    <tr>\n",
       "      <th>279</th>\n",
       "      <td>2008-08-01</td>\n",
       "      <td>Nato - official figures</td>\n",
       "      <td>46.0</td>\n",
       "    </tr>\n",
       "  </tbody>\n",
       "</table>\n",
       "</div>"
      ],
      "text/plain": [
       "          date                        Subgroup  Freq\n",
       "278 2008-08-01  Nato (detailed in spreadsheet)  46.0\n",
       "279 2008-08-01         Nato - official figures  46.0"
      ]
     },
     "execution_count": 34,
     "metadata": {},
     "output_type": "execute_result"
    }
   ],
   "source": [
    "# De la tabla agrupado seleccionamos la fecha de agosto de 2008 y hacemos el filtro por el subgrupo de Nato\\n\",\n",
    "agrupado.query('Subgroup in [\"Nato (detailed in spreadsheet)\", \"Nato - official figures\"] & date == \"2008-08\"')"
   ]
  },
  {
   "cell_type": "markdown",
   "metadata": {},
   "source": [
    "En Agosto de 2008 se resgistraron 46 bajas de Nato"
   ]
  },
  {
   "cell_type": "markdown",
   "metadata": {},
   "source": [
    "# - ¿Cuál es el mes que tiene el mayor número de bajas?"
   ]
  },
  {
   "cell_type": "code",
   "execution_count": 35,
   "metadata": {},
   "outputs": [
    {
     "data": {
      "text/plain": [
       "Total    1271\n",
       "Name: 2006-09-01 00:00:00, dtype: int32"
      ]
     },
     "execution_count": 35,
     "metadata": {},
     "output_type": "execute_result"
    }
   ],
   "source": [
    "# Para esta pregunta se usara la tabla de total\n",
    "total.loc[total['Total'].idxmax()]"
   ]
  },
  {
   "cell_type": "markdown",
   "metadata": {},
   "source": [
    "El mes que tiene mayor número de muertos es Septiembre de 2006 con 1271 bajas"
   ]
  },
  {
   "cell_type": "markdown",
   "metadata": {},
   "source": [
    "# - ¿Puedes hacer una grafica de la distribución de las bajas a lo largo del tiempo?"
   ]
  },
  {
   "cell_type": "code",
   "execution_count": 36,
   "metadata": {},
   "outputs": [
    {
     "data": {
      "text/html": [
       "<div>\n",
       "<style scoped>\n",
       "    .dataframe tbody tr th:only-of-type {\n",
       "        vertical-align: middle;\n",
       "    }\n",
       "\n",
       "    .dataframe tbody tr th {\n",
       "        vertical-align: top;\n",
       "    }\n",
       "\n",
       "    .dataframe thead th {\n",
       "        text-align: right;\n",
       "    }\n",
       "</style>\n",
       "<table border=\"1\" class=\"dataframe\">\n",
       "  <thead>\n",
       "    <tr style=\"text-align: right;\">\n",
       "      <th></th>\n",
       "      <th>Total</th>\n",
       "    </tr>\n",
       "    <tr>\n",
       "      <th>date</th>\n",
       "      <th></th>\n",
       "    </tr>\n",
       "  </thead>\n",
       "  <tbody>\n",
       "    <tr>\n",
       "      <th>2004-01-01</th>\n",
       "      <td>100</td>\n",
       "    </tr>\n",
       "    <tr>\n",
       "      <th>2004-02-01</th>\n",
       "      <td>18</td>\n",
       "    </tr>\n",
       "    <tr>\n",
       "      <th>2004-03-01</th>\n",
       "      <td>26</td>\n",
       "    </tr>\n",
       "    <tr>\n",
       "      <th>2004-04-01</th>\n",
       "      <td>30</td>\n",
       "    </tr>\n",
       "    <tr>\n",
       "      <th>2004-05-01</th>\n",
       "      <td>118</td>\n",
       "    </tr>\n",
       "  </tbody>\n",
       "</table>\n",
       "</div>"
      ],
      "text/plain": [
       "            Total\n",
       "date             \n",
       "2004-01-01    100\n",
       "2004-02-01     18\n",
       "2004-03-01     26\n",
       "2004-04-01     30\n",
       "2004-05-01    118"
      ]
     },
     "execution_count": 36,
     "metadata": {},
     "output_type": "execute_result"
    }
   ],
   "source": [
    "# Ordenamos los valores del dataframe total por fecha\\n\",\n",
    "total = total.sort_values(['date'])\n",
    "total.head()"
   ]
  },
  {
   "cell_type": "code",
   "execution_count": 37,
   "metadata": {},
   "outputs": [
    {
     "data": {
      "text/plain": [
       "<matplotlib.axes._subplots.AxesSubplot at 0x261b408ca48>"
      ]
     },
     "execution_count": 37,
     "metadata": {},
     "output_type": "execute_result"
    },
    {
     "data": {
      "image/png": "[encoded data removed]",
      "text/plain": [
       "<Figure size 2160x576 with 1 Axes>"
      ]
     },
     "metadata": {
      "needs_background": "light"
     },
     "output_type": "display_data"
    }
   ],
   "source": [
    "# Graficamos la columna total, usando como índice la fecha\\n\",\n",
    "total['Total'].plot(use_index=True, legend=True,figsize=(30,8))"
   ]
  },
  {
   "cell_type": "markdown",
   "metadata": {},
   "source": [
    "Con esta gráfica podemos apreciar el desarrollo del conflicto"
   ]
  },
  {
   "cell_type": "code",
   "execution_count": null,
   "metadata": {},
   "outputs": [],
   "source": []
  }
 ],
 "metadata": {
  "kernelspec": {
   "display_name": "Python 3",
   "language": "python",
   "name": "python3"
  },
  "language_info": {
   "codemirror_mode": {
    "name": "ipython",
    "version": 3
   },
   "file_extension": ".py",
   "mimetype": "text/x-python",
   "name": "python",
   "nbconvert_exporter": "python",
   "pygments_lexer": "ipython3",
   "version": "3.7.6"
  }
 },
 "nbformat": 4,
 "nbformat_minor": 4
}
